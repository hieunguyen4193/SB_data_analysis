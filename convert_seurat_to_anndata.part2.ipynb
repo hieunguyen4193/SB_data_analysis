{
 "cells": [
  {
   "cell_type": "code",
   "execution_count": null,
   "metadata": {},
   "outputs": [
    {
     "ename": "IndentationError",
     "evalue": "expected an indented block after 'with' statement on line 55 (612173408.py, line 56)",
     "output_type": "error",
     "traceback": [
      "\u001b[0;36m  Input \u001b[0;32mIn [1]\u001b[0;36m\u001b[0m\n\u001b[0;31m    gene_names = f.read().splitlines()\u001b[0m\n\u001b[0m    ^\u001b[0m\n\u001b[0;31mIndentationError\u001b[0m\u001b[0;31m:\u001b[0m expected an indented block after 'with' statement on line 55\n"
     ]
    }
   ],
   "source": [
    "import scanpy as sc\n",
    "import numpy as np\n",
    "import os\n",
    "import anndata2ri\n",
    "import pathlib\n",
    "from scipy import io\n",
    "import anndata#\n",
    "import pandas as pd\n",
    "from tqdm import tqdm\n",
    "import argparse\n",
    "import sys\n",
    "\n",
    "# Activate the anndata2ri conversion between SingleCellExperiment and AnnData\n",
    "# anndata2ri.activate()\n",
    "\n",
    "#Loading the rpy2 extension enables cell magic to be used\n",
    "#This runs R code in jupyter notebook cells\n",
    "# %load_ext rpy2.ipython\n",
    "\n",
    "sc.settings.verbosity = 3\n",
    "# sc.logging.print_versions()\n",
    "\n",
    "import warnings\n",
    "warnings.filterwarnings(\"ignore\")\n",
    "\n",
    "outdir = \"/media/hieunguyen/HD01/outdir/CRC1382/SBharadwaj_20240318\"\n",
    "\n",
    "path_to_main_src = \"/home/hieunguyen/CRC1382/src_2023/SBharadwaj/deep_seq_batch\"\n",
    "samplesheet = pd.read_csv(os.path.join(path_to_main_src, \"SampleSheet_for_DGE_and_CellChat.csv\"))\n",
    "samplesheet[\"full_dataset_name\"] = samplesheet[[\"PROJECT\", \"dataset_name\"]].apply(\n",
    "    lambda x: f\"{x[0]}_{x[1]}\", axis = 1\n",
    ")\n",
    "samplesheet = samplesheet[~samplesheet[\"full_dataset_name\"].duplicated()]\n",
    "\n",
    "for full_name in samplesheet[\"full_dataset_name\"].unique():\n",
    "    print(f\"Working on dataset {full_name}\")\n",
    "    project = samplesheet[samplesheet[\"full_dataset_name\"] == full_name][\"PROJECT\"].values[0]\n",
    "    dataset_name = samplesheet[samplesheet[\"full_dataset_name\"] == full_name][\"dataset_name\"].values[0]\n",
    "    path_to_input_s_obj = samplesheet[samplesheet[\"full_dataset_name\"] == full_name][\"path\"].values[0]\n",
    "    path_to_main_output = os.path.join(outdir, project, \"data_analysis\")\n",
    "    \n",
    "    path_to_seurat2anndata = os.path.join(path_to_main_output, \"09_output\", \"seurat2anndata\")\n",
    "\n",
    "    object_name = f\"Project_{full_name}.addedConditions\"\n",
    "    print(os.path.join(path_to_seurat2anndata, \"counts_{}.mtx\".format(object_name)))\n",
    "    X = io.mmread(os.path.join(path_to_seurat2anndata, \"counts_{}.mtx\".format(object_name)))\n",
    "\n",
    "    # create anndata object\n",
    "    adata = anndata.AnnData(X=X.transpose().tocsr())\n",
    "\n",
    "    # load cell metadata:\n",
    "    cell_meta = pd.read_csv(os.path.join(path_to_seurat2anndata, \"metadata_{}.csv\".format(object_name)))\n",
    "\n",
    "    # load gene names:\n",
    "    with open(os.path.join(path_to_seurat2anndata, \"gene_names_{}.csv\".format(object_name)), 'r') as f:\n",
    "        gene_names = f.read().splitlines()\n",
    "        \n",
    "    # set anndata observations and index obs by barcodes, var by gene names\n",
    "    adata.obs = cell_meta\n",
    "    adata.obs.index = adata.obs['barcode']\n",
    "    adata.var.index = gene_names\n",
    "\n",
    "    # load dimensional reduction:\n",
    "    pca = pd.read_csv(os.path.join(path_to_seurat2anndata, \"pca_{}.csv\".format(object_name)))\n",
    "    pca.index = adata.obs.index\n",
    "\n",
    "    # set pca and umap\n",
    "    adata.obsm['X_pca'] = pca.to_numpy()\n",
    "    adata.obsm['X_umap'] = np.vstack((adata.obs['UMAP_1'].to_numpy(), adata.obs['UMAP_2'].to_numpy())).T\n",
    "\n",
    "    # save dataset as anndata format\n",
    "    adata.write(os.path.join(path_to_seurat2anndata, '{}.h5ad'.format(object_name)))\n"
   ]
  },
  {
   "cell_type": "code",
   "execution_count": null,
   "metadata": {},
   "outputs": [],
   "source": []
  },
  {
   "cell_type": "code",
   "execution_count": null,
   "metadata": {},
   "outputs": [],
   "source": []
  }
 ],
 "metadata": {
  "kernelspec": {
   "display_name": "hieunguyen",
   "language": "python",
   "name": "python3"
  },
  "language_info": {
   "codemirror_mode": {
    "name": "ipython",
    "version": 3
   },
   "file_extension": ".py",
   "mimetype": "text/x-python",
   "name": "python",
   "nbconvert_exporter": "python",
   "pygments_lexer": "ipython3",
   "version": "3.10.4"
  }
 },
 "nbformat": 4,
 "nbformat_minor": 2
}

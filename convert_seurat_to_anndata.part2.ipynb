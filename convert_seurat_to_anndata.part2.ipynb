{
 "cells": [
  {
   "cell_type": "code",
   "execution_count": null,
   "metadata": {},
   "outputs": [
    {
     "name": "stdout",
     "output_type": "stream",
     "text": [
      "Working on dataset SBharadwaj_20240318_Sample_1_4_7_8_2_5_full\n",
      "/media/hieunguyen/HD01/outdir/CRC1382/SBharadwaj_20240318/SBharadwaj_20240318_Sample_1_4_7_8_2_5/data_analysis/09_output/seurat2anndata/counts_Project_SBharadwaj_20240318_Sample_1_4_7_8_2_5_full.addedConditions.mtx\n"
     ]
    },
    {
     "ename": "FileNotFoundError",
     "evalue": "[Errno 2] No such file or directory: '/media/hieunguyen/HD01/outdir/CRC1382/SBharadwaj_20240318/SBharadwaj_20240318_Sample_1_4_7_8_2_5/data_analysis/09_output/seurat2anndata/counts_Project_SBharadwaj_20240318_Sample_1_4_7_8_2_5_full.addedConditions.mtx'",
     "output_type": "error",
     "traceback": [
      "\u001b[0;31m---------------------------------------------------------------------------\u001b[0m",
      "\u001b[0;31mFileNotFoundError\u001b[0m                         Traceback (most recent call last)",
      "Input \u001b[0;32mIn [2]\u001b[0m, in \u001b[0;36m<cell line: 35>\u001b[0;34m()\u001b[0m\n\u001b[1;32m     44\u001b[0m object_name \u001b[38;5;241m=\u001b[39m \u001b[38;5;124mf\u001b[39m\u001b[38;5;124m\"\u001b[39m\u001b[38;5;124mProject_\u001b[39m\u001b[38;5;132;01m{\u001b[39;00mfull_name\u001b[38;5;132;01m}\u001b[39;00m\u001b[38;5;124m.addedConditions\u001b[39m\u001b[38;5;124m\"\u001b[39m\n\u001b[1;32m     45\u001b[0m \u001b[38;5;28mprint\u001b[39m(os\u001b[38;5;241m.\u001b[39mpath\u001b[38;5;241m.\u001b[39mjoin(path_to_seurat2anndata, \u001b[38;5;124m\"\u001b[39m\u001b[38;5;124mcounts_\u001b[39m\u001b[38;5;132;01m{}\u001b[39;00m\u001b[38;5;124m.mtx\u001b[39m\u001b[38;5;124m\"\u001b[39m\u001b[38;5;241m.\u001b[39mformat(object_name)))\n\u001b[0;32m---> 46\u001b[0m X \u001b[38;5;241m=\u001b[39m \u001b[43mio\u001b[49m\u001b[38;5;241;43m.\u001b[39;49m\u001b[43mmmread\u001b[49m\u001b[43m(\u001b[49m\u001b[43mos\u001b[49m\u001b[38;5;241;43m.\u001b[39;49m\u001b[43mpath\u001b[49m\u001b[38;5;241;43m.\u001b[39;49m\u001b[43mjoin\u001b[49m\u001b[43m(\u001b[49m\u001b[43mpath_to_seurat2anndata\u001b[49m\u001b[43m,\u001b[49m\u001b[43m \u001b[49m\u001b[38;5;124;43m\"\u001b[39;49m\u001b[38;5;124;43mcounts_\u001b[39;49m\u001b[38;5;132;43;01m{}\u001b[39;49;00m\u001b[38;5;124;43m.mtx\u001b[39;49m\u001b[38;5;124;43m\"\u001b[39;49m\u001b[38;5;241;43m.\u001b[39;49m\u001b[43mformat\u001b[49m\u001b[43m(\u001b[49m\u001b[43mobject_name\u001b[49m\u001b[43m)\u001b[49m\u001b[43m)\u001b[49m\u001b[43m)\u001b[49m\n\u001b[1;32m     48\u001b[0m \u001b[38;5;66;03m# create anndata object\u001b[39;00m\n\u001b[1;32m     49\u001b[0m adata \u001b[38;5;241m=\u001b[39m anndata\u001b[38;5;241m.\u001b[39mAnnData(X\u001b[38;5;241m=\u001b[39mX\u001b[38;5;241m.\u001b[39mtranspose()\u001b[38;5;241m.\u001b[39mtocsr())\n",
      "File \u001b[0;32m~/miniconda3/envs/hieunguyen/lib/python3.10/site-packages/scipy/io/_mmio.py:77\u001b[0m, in \u001b[0;36mmmread\u001b[0;34m(source)\u001b[0m\n\u001b[1;32m     61\u001b[0m \u001b[38;5;28;01mdef\u001b[39;00m \u001b[38;5;21mmmread\u001b[39m(source):\n\u001b[1;32m     62\u001b[0m     \u001b[38;5;124;03m\"\"\"\u001b[39;00m\n\u001b[1;32m     63\u001b[0m \u001b[38;5;124;03m    Reads the contents of a Matrix Market file-like 'source' into a matrix.\u001b[39;00m\n\u001b[1;32m     64\u001b[0m \n\u001b[0;32m   (...)\u001b[0m\n\u001b[1;32m     75\u001b[0m \u001b[38;5;124;03m        Matrix Market file.\u001b[39;00m\n\u001b[1;32m     76\u001b[0m \u001b[38;5;124;03m    \"\"\"\u001b[39;00m\n\u001b[0;32m---> 77\u001b[0m     \u001b[38;5;28;01mreturn\u001b[39;00m \u001b[43mMMFile\u001b[49m\u001b[43m(\u001b[49m\u001b[43m)\u001b[49m\u001b[38;5;241;43m.\u001b[39;49m\u001b[43mread\u001b[49m\u001b[43m(\u001b[49m\u001b[43msource\u001b[49m\u001b[43m)\u001b[49m\n",
      "File \u001b[0;32m~/miniconda3/envs/hieunguyen/lib/python3.10/site-packages/scipy/io/_mmio.py:435\u001b[0m, in \u001b[0;36mMMFile.read\u001b[0;34m(self, source)\u001b[0m\n\u001b[1;32m    419\u001b[0m \u001b[38;5;28;01mdef\u001b[39;00m \u001b[38;5;21mread\u001b[39m(\u001b[38;5;28mself\u001b[39m, source):\n\u001b[1;32m    420\u001b[0m     \u001b[38;5;124;03m\"\"\"\u001b[39;00m\n\u001b[1;32m    421\u001b[0m \u001b[38;5;124;03m    Reads the contents of a Matrix Market file-like 'source' into a matrix.\u001b[39;00m\n\u001b[1;32m    422\u001b[0m \n\u001b[0;32m   (...)\u001b[0m\n\u001b[1;32m    433\u001b[0m \u001b[38;5;124;03m        Matrix Market file.\u001b[39;00m\n\u001b[1;32m    434\u001b[0m \u001b[38;5;124;03m    \"\"\"\u001b[39;00m\n\u001b[0;32m--> 435\u001b[0m     stream, close_it \u001b[38;5;241m=\u001b[39m \u001b[38;5;28;43mself\u001b[39;49m\u001b[38;5;241;43m.\u001b[39;49m\u001b[43m_open\u001b[49m\u001b[43m(\u001b[49m\u001b[43msource\u001b[49m\u001b[43m)\u001b[49m\n\u001b[1;32m    437\u001b[0m     \u001b[38;5;28;01mtry\u001b[39;00m:\n\u001b[1;32m    438\u001b[0m         \u001b[38;5;28mself\u001b[39m\u001b[38;5;241m.\u001b[39m_parse_header(stream)\n",
      "File \u001b[0;32m~/miniconda3/envs/hieunguyen/lib/python3.10/site-packages/scipy/io/_mmio.py:329\u001b[0m, in \u001b[0;36mMMFile._open\u001b[0;34m(filespec, mode)\u001b[0m\n\u001b[1;32m    327\u001b[0m         stream \u001b[38;5;241m=\u001b[39m bz2\u001b[38;5;241m.\u001b[39mBZ2File(filespec, \u001b[38;5;124m'\u001b[39m\u001b[38;5;124mrb\u001b[39m\u001b[38;5;124m'\u001b[39m)\n\u001b[1;32m    328\u001b[0m     \u001b[38;5;28;01melse\u001b[39;00m:\n\u001b[0;32m--> 329\u001b[0m         stream \u001b[38;5;241m=\u001b[39m \u001b[38;5;28;43mopen\u001b[39;49m\u001b[43m(\u001b[49m\u001b[43mfilespec\u001b[49m\u001b[43m,\u001b[49m\u001b[43m \u001b[49m\u001b[43mmode\u001b[49m\u001b[43m)\u001b[49m\n\u001b[1;32m    331\u001b[0m \u001b[38;5;66;03m# open for writing\u001b[39;00m\n\u001b[1;32m    332\u001b[0m \u001b[38;5;28;01melse\u001b[39;00m:\n\u001b[1;32m    333\u001b[0m     \u001b[38;5;28;01mif\u001b[39;00m filespec[\u001b[38;5;241m-\u001b[39m\u001b[38;5;241m4\u001b[39m:] \u001b[38;5;241m!=\u001b[39m \u001b[38;5;124m'\u001b[39m\u001b[38;5;124m.mtx\u001b[39m\u001b[38;5;124m'\u001b[39m:\n",
      "\u001b[0;31mFileNotFoundError\u001b[0m: [Errno 2] No such file or directory: '/media/hieunguyen/HD01/outdir/CRC1382/SBharadwaj_20240318/SBharadwaj_20240318_Sample_1_4_7_8_2_5/data_analysis/09_output/seurat2anndata/counts_Project_SBharadwaj_20240318_Sample_1_4_7_8_2_5_full.addedConditions.mtx'"
     ]
    }
   ],
   "source": [
    "import scanpy as sc\n",
    "import numpy as np\n",
    "import os\n",
    "import anndata2ri\n",
    "import pathlib\n",
    "from scipy import io\n",
    "import anndata#\n",
    "import pandas as pd\n",
    "from tqdm import tqdm\n",
    "import argparse\n",
    "import sys\n",
    "\n",
    "# Activate the anndata2ri conversion between SingleCellExperiment and AnnData\n",
    "# anndata2ri.activate()\n",
    "\n",
    "#Loading the rpy2 extension enables cell magic to be used\n",
    "#This runs R code in jupyter notebook cells\n",
    "# %load_ext rpy2.ipython\n",
    "\n",
    "sc.settings.verbosity = 3\n",
    "# sc.logging.print_versions()\n",
    "\n",
    "import warnings\n",
    "warnings.filterwarnings(\"ignore\")\n",
    "\n",
    "outdir = \"/media/hieunguyen/HD01/outdir/CRC1382/SBharadwaj_20240318\"\n",
    "\n",
    "path_to_main_src = \"/home/hieunguyen/CRC1382/src_2023/SBharadwaj/deep_seq_batch\"\n",
    "samplesheet = pd.read_csv(os.path.join(path_to_main_src, \"SampleSheet_for_DGE_and_CellChat.csv\"))\n",
    "samplesheet[\"full_dataset_name\"] = samplesheet[[\"PROJECT\", \"dataset_name\"]].apply(\n",
    "    lambda x: f\"{x[0]}_{x[1]}\", axis = 1\n",
    ")\n",
    "samplesheet = samplesheet[~samplesheet[\"full_dataset_name\"].duplicated()]\n",
    "\n",
    "for full_name in samplesheet[\"full_dataset_name\"].unique():\n",
    "    print(f\"Working on dataset {full_name}\")\n",
    "    project = samplesheet[samplesheet[\"full_dataset_name\"] == full_name][\"PROJECT\"].values[0]\n",
    "    dataset_name = samplesheet[samplesheet[\"full_dataset_name\"] == full_name][\"dataset_name\"].values[0]\n",
    "    path_to_input_s_obj = samplesheet[samplesheet[\"full_dataset_name\"] == full_name][\"path\"].values[0]\n",
    "    path_to_main_output = os.path.join(outdir, project, \"data_analysis\")\n",
    "    \n",
    "    path_to_seurat2anndata = os.path.join(path_to_main_output, \"09_output\", \"seurat2anndata\")\n",
    "\n",
    "    object_name = f\"{full_name}\"\n",
    "    print(os.path.join(path_to_seurat2anndata, \"counts_{}.mtx\".format(object_name)))\n",
    "    X = io.mmread(os.path.join(path_to_seurat2anndata, \"counts_{}.mtx\".format(object_name)))\n",
    "\n",
    "    # create anndata object\n",
    "    adata = anndata.AnnData(X=X.transpose().tocsr())\n",
    "\n",
    "    # load cell metadata:\n",
    "    cell_meta = pd.read_csv(os.path.join(path_to_seurat2anndata, \"metadata_{}.csv\".format(object_name)))\n",
    "\n",
    "    # load gene names:\n",
    "    with open(os.path.join(path_to_seurat2anndata, \"gene_names_{}.csv\".format(object_name)), 'r') as f:\n",
    "        gene_names = f.read().splitlines()\n",
    "\n",
    "    # set anndata observations and index obs by barcodes, var by gene names\n",
    "    adata.obs = cell_meta\n",
    "    adata.obs.index = adata.obs['barcode']\n",
    "    adata.var.index = gene_names\n",
    "\n",
    "    # load dimensional reduction:\n",
    "    pca = pd.read_csv(os.path.join(path_to_seurat2anndata, \"pca_{}.csv\".format(object_name)))\n",
    "    pca.index = adata.obs.index\n",
    "\n",
    "    # set pca and umap\n",
    "    adata.obsm['X_pca'] = pca.to_numpy()\n",
    "    adata.obsm['X_umap'] = np.vstack((adata.obs['UMAP_1'].to_numpy(), adata.obs['UMAP_2'].to_numpy())).T\n",
    "\n",
    "    # save dataset as anndata format\n",
    "    adata.write(os.path.join(path_to_seurat2anndata, '{}.h5ad'.format(object_name)))\n"
   ]
  },
  {
   "cell_type": "code",
   "execution_count": null,
   "metadata": {},
   "outputs": [],
   "source": []
  },
  {
   "cell_type": "code",
   "execution_count": null,
   "metadata": {},
   "outputs": [],
   "source": []
  }
 ],
 "metadata": {
  "kernelspec": {
   "display_name": "hieunguyen",
   "language": "python",
   "name": "python3"
  },
  "language_info": {
   "codemirror_mode": {
    "name": "ipython",
    "version": 3
   },
   "file_extension": ".py",
   "mimetype": "text/x-python",
   "name": "python",
   "nbconvert_exporter": "python",
   "pygments_lexer": "ipython3",
   "version": "3.10.4"
  }
 },
 "nbformat": 4,
 "nbformat_minor": 2
}

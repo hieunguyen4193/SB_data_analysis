{
 "cells": [
  {
   "cell_type": "code",
   "execution_count": null,
   "metadata": {},
   "outputs": [],
   "source": [
    "import scanpy as sc\n",
    "import numpy as np\n",
    "import os\n",
    "import anndata2ri\n",
    "import pathlib\n",
    "from scipy import io\n",
    "import anndata#\n",
    "import pandas as pd\n",
    "from tqdm import tqdm\n",
    "import argparse\n",
    "import sys\n",
    "\n",
    "# Activate the anndata2ri conversion between SingleCellExperiment and AnnData\n",
    "# anndata2ri.activate()\n",
    "\n",
    "#Loading the rpy2 extension enables cell magic to be used\n",
    "#This runs R code in jupyter notebook cells\n",
    "# %load_ext rpy2.ipython\n",
    "\n",
    "sc.settings.verbosity = 3\n",
    "# sc.logging.print_versions()\n",
    "\n",
    "import warnings\n",
    "warnings.filterwarnings(\"ignore\")\n",
    "\n",
    "outdir = \"/media/hieunguyen/HD01/outdir/CRC1382/SBharadwaj_20240318\"\n",
    "\n",
    "path_to_main_src = \"/home/hieunguyen/CRC1382/src_2023/SBharadwaj/deep_seq_batch\"\n",
    "samplesheet = pd.read_csv(os.path.join(path_to_main_src, \"SampleSheet_for_DGE_and_CellChat.csv\"))\n",
    "samplesheet['full.dataset.name'] = samplesheet.apply(lambda row: f\"{row['PROJECT']}_{row['dataset_name']}\", axis=1)\n",
    "samplesheet = samplesheet.drop_duplicates(subset=['full.dataset.name'])"
   ]
  }
 ],
 "metadata": {
  "kernelspec": {
   "display_name": "hieunguyen",
   "language": "python",
   "name": "python3"
  },
  "language_info": {
   "name": "python",
   "version": "3.10.4"
  }
 },
 "nbformat": 4,
 "nbformat_minor": 2
}

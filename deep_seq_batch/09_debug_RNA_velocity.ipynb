{
 "cells": [
  {
   "cell_type": "code",
   "execution_count": 1,
   "metadata": {},
   "outputs": [],
   "source": [
    "import scanpy as sc\n",
    "import numpy as np\n",
    "import os\n",
    "import anndata2ri\n",
    "import pathlib\n",
    "import scvelo as scv\n",
    "from scipy import io\n",
    "import anndata#\n",
    "import pandas as pd\n",
    "from tqdm import tqdm\n",
    "import argparse\n",
    "import sys\n",
    "import re\n",
    "# Activate the anndata2ri conversion between SingleCellExperiment and AnnData\n",
    "anndata2ri.activate()\n",
    "\n",
    "#Loading the rpy2 extension enables cell magic to be used\n",
    "#This runs R code in jupyter notebook cells\n",
    "%load_ext rpy2.ipython\n",
    "\n",
    "sc.settings.verbosity = 3\n",
    "# sc.logging.print_versions()\n",
    "\n",
    "import warnings\n",
    "warnings.filterwarnings(\"ignore\")\n",
    "PROJECT = \"SBharadwaj_20240318\"\n",
    "outdir = os.path.join(\"/media/hieunguyen/HD01/outdir/CRC1382\", PROJECT)\n",
    "\n",
    "path_to_main_src = \"/home/hieunguyen/CRC1382/src_2023/SBharadwaj/deep_seq_batch\"\n",
    "samplesheet = pd.read_csv(os.path.join(path_to_main_src, \"SampleSheet_for_DGE_and_CellChat.csv\"))\n",
    "samplesheet[\"full_dataset_name\"] = samplesheet[[\"PROJECT\", \"dataset_name\"]].apply(\n",
    "    lambda x: f\"{x[0]}_{x[1]}\", axis = 1\n",
    ")\n",
    "samplesheet = samplesheet[~samplesheet[\"full_dataset_name\"].duplicated()]\n"
   ]
  },
  {
   "cell_type": "code",
   "execution_count": 8,
   "metadata": {},
   "outputs": [
    {
     "name": "stderr",
     "output_type": "stream",
     "text": [
      "100%|██████████| 8/8 [00:25<00:00,  3.17s/it]\n"
     ]
    },
    {
     "ename": "UnboundLocalError",
     "evalue": "local variable 'id_length' referenced before assignment",
     "output_type": "error",
     "traceback": [
      "\u001b[0;31m---------------------------------------------------------------------------\u001b[0m",
      "\u001b[0;31mUnboundLocalError\u001b[0m                         Traceback (most recent call last)",
      "Input \u001b[0;32mIn [8]\u001b[0m, in \u001b[0;36m<cell line: 50>\u001b[0;34m()\u001b[0m\n\u001b[1;32m     47\u001b[0m all_velodata\u001b[38;5;241m.\u001b[39mobs\u001b[38;5;241m.\u001b[39mindex \u001b[38;5;241m=\u001b[39m new_obs\n\u001b[1;32m     48\u001b[0m all_velodata\u001b[38;5;241m.\u001b[39mvar_names_make_unique()\n\u001b[0;32m---> 50\u001b[0m merge_data \u001b[38;5;241m=\u001b[39m \u001b[43mscv\u001b[49m\u001b[38;5;241;43m.\u001b[39;49m\u001b[43mutils\u001b[49m\u001b[38;5;241;43m.\u001b[39;49m\u001b[43mmerge\u001b[49m\u001b[43m(\u001b[49m\u001b[43madata\u001b[49m\u001b[43m,\u001b[49m\u001b[43m \u001b[49m\u001b[43mall_velodata\u001b[49m\u001b[43m)\u001b[49m\n",
      "File \u001b[0;32m~/miniconda3/envs/hieunguyen/lib/python3.10/site-packages/scvelo/core/_anndata.py:526\u001b[0m, in \u001b[0;36mmerge\u001b[0;34m(adata, ldata, copy, **kwargs)\u001b[0m\n\u001b[1;32m    524\u001b[0m \u001b[38;5;28;01mif\u001b[39;00m \u001b[38;5;124m\"\u001b[39m\u001b[38;5;124mid_length\u001b[39m\u001b[38;5;124m\"\u001b[39m \u001b[38;5;129;01min\u001b[39;00m kwargs:\n\u001b[1;32m    525\u001b[0m     id_length \u001b[38;5;241m=\u001b[39m kwargs\u001b[38;5;241m.\u001b[39mget(\u001b[38;5;124m\"\u001b[39m\u001b[38;5;124mid_length\u001b[39m\u001b[38;5;124m\"\u001b[39m)\n\u001b[0;32m--> 526\u001b[0m clean_obs_names(adata, id_length\u001b[38;5;241m=\u001b[39m\u001b[43mid_length\u001b[49m)\n\u001b[1;32m    527\u001b[0m clean_obs_names(ldata, id_length\u001b[38;5;241m=\u001b[39mid_length)\n\u001b[1;32m    528\u001b[0m common_obs \u001b[38;5;241m=\u001b[39m adata\u001b[38;5;241m.\u001b[39mobs_names\u001b[38;5;241m.\u001b[39mintersection(ldata\u001b[38;5;241m.\u001b[39mobs_names)\n",
      "\u001b[0;31mUnboundLocalError\u001b[0m: local variable 'id_length' referenced before assignment"
     ]
    }
   ],
   "source": [
    "#####------------------------------------------------------------#####\n",
    "##### Read anndata\n",
    "#####------------------------------------------------------------#####\n",
    "full_name = \"SBharadwaj_20240318_Sample_1_4_7_8_2_5_full\"\n",
    "\n",
    "project = samplesheet[samplesheet[\"full_dataset_name\"] == full_name][\"PROJECT\"].values[0]\n",
    "dataset_name = samplesheet[samplesheet[\"full_dataset_name\"] == full_name][\"dataset_name\"].values[0]\n",
    "path_to_input_s_obj = samplesheet[samplesheet[\"full_dataset_name\"] == full_name][\"path\"].values[0]\n",
    "path_to_main_output = os.path.join(outdir, project, \"data_analysis\")\n",
    "\n",
    "path_to_seurat2anndata = os.path.join(path_to_main_output, \"09_output\", \"seurat2anndata\")\n",
    "\n",
    "adata = sc.read_h5ad(os.path.join(path_to_seurat2anndata, '{}.h5ad'.format(full_name)))\n",
    "obsdf = adata.obs.copy()\n",
    "obsdf[\"barcode\"] = obsdf[[\"barcode\", \"name\"]].apply(lambda x: x[0].replace(f\"{x[1]}_{x[1]}\", f\"{x[1]}\"), axis = 1) \n",
    "\n",
    "adata.obs.index = obsdf.barcode.values\n",
    "adata.var_names_make_unique()\n",
    "\n",
    "colordf = pd.read_csv(os.path.join(path_to_seurat2anndata, 'colordf_{}.csv'.format(full_name)))\n",
    "colors = colordf[\"color\"].values\n",
    "\n",
    "#####------------------------------------------------------------#####\n",
    "##### READ LOOM DATA\n",
    "#####------------------------------------------------------------#####\n",
    "path_to_loom_data = \"/media/hieunguyen/HD01/outdir/CRC1382/SBharadwaj_20240318/loom\"\n",
    "all_looms = [item for item in pathlib.Path(path_to_loom_data).glob(\"*.loom\")]\n",
    "\n",
    "velodata_dict = dict()\n",
    "for input_loom in tqdm(all_looms):\n",
    "    velodata = scv.read_loom(input_loom)\n",
    "    samplename = input_loom.name.replace(\".loom\", \"\")\n",
    "\n",
    "    new_obs = [\"{}_{}_{}-1\".format(samplename, samplename, item.split(\":\")[1].replace(\"x\", \"\")) for item in velodata.obs.index]\n",
    "    velodata.obs.index = new_obs\n",
    "    velodata.obs[\"barcode\"] = new_obs\n",
    "    velodata.var_names_make_unique()\n",
    "    pattern = re.compile('_[A|T|G|C]*-')\n",
    "    new_obs = [samplename + pattern.search(string = item).group() + item.split(\"-\")[1]\n",
    "            for item in velodata.obs.index]\n",
    "    velodata.obs.index = new_obs\n",
    "    velodata_dict[samplename] = velodata\n",
    "    velodata.var_names_make_unique()\n",
    "\n",
    "all_velodata = velodata_dict[list(velodata_dict.keys())[0]]\n",
    "for data in list(velodata_dict.keys())[1:]:\n",
    "    all_velodata = all_velodata.concatenate(velodata_dict[data])\n",
    "    \n",
    "new_obs = [item.split(\"-\")[0] + \"-1\" for item in all_velodata.obs.index]\n",
    "all_velodata.obs.index = new_obs\n",
    "all_velodata.var_names_make_unique()\n",
    "\n"
   ]
  },
  {
   "cell_type": "code",
   "execution_count": 9,
   "metadata": {},
   "outputs": [
    {
     "ename": "UnboundLocalError",
     "evalue": "local variable 'id_length' referenced before assignment",
     "output_type": "error",
     "traceback": [
      "\u001b[0;31m---------------------------------------------------------------------------\u001b[0m",
      "\u001b[0;31mUnboundLocalError\u001b[0m                         Traceback (most recent call last)",
      "Input \u001b[0;32mIn [9]\u001b[0m, in \u001b[0;36m<cell line: 1>\u001b[0;34m()\u001b[0m\n\u001b[0;32m----> 1\u001b[0m merge_data \u001b[38;5;241m=\u001b[39m \u001b[43mscv\u001b[49m\u001b[38;5;241;43m.\u001b[39;49m\u001b[43mutils\u001b[49m\u001b[38;5;241;43m.\u001b[39;49m\u001b[43mmerge\u001b[49m\u001b[43m(\u001b[49m\u001b[43madata\u001b[49m\u001b[43m,\u001b[49m\u001b[43m \u001b[49m\u001b[43mall_velodata\u001b[49m\u001b[43m)\u001b[49m\n",
      "File \u001b[0;32m~/miniconda3/envs/hieunguyen/lib/python3.10/site-packages/scvelo/core/_anndata.py:526\u001b[0m, in \u001b[0;36mmerge\u001b[0;34m(adata, ldata, copy, **kwargs)\u001b[0m\n\u001b[1;32m    524\u001b[0m \u001b[38;5;28;01mif\u001b[39;00m \u001b[38;5;124m\"\u001b[39m\u001b[38;5;124mid_length\u001b[39m\u001b[38;5;124m\"\u001b[39m \u001b[38;5;129;01min\u001b[39;00m kwargs:\n\u001b[1;32m    525\u001b[0m     id_length \u001b[38;5;241m=\u001b[39m kwargs\u001b[38;5;241m.\u001b[39mget(\u001b[38;5;124m\"\u001b[39m\u001b[38;5;124mid_length\u001b[39m\u001b[38;5;124m\"\u001b[39m)\n\u001b[0;32m--> 526\u001b[0m clean_obs_names(adata, id_length\u001b[38;5;241m=\u001b[39m\u001b[43mid_length\u001b[49m)\n\u001b[1;32m    527\u001b[0m clean_obs_names(ldata, id_length\u001b[38;5;241m=\u001b[39mid_length)\n\u001b[1;32m    528\u001b[0m common_obs \u001b[38;5;241m=\u001b[39m adata\u001b[38;5;241m.\u001b[39mobs_names\u001b[38;5;241m.\u001b[39mintersection(ldata\u001b[38;5;241m.\u001b[39mobs_names)\n",
      "\u001b[0;31mUnboundLocalError\u001b[0m: local variable 'id_length' referenced before assignment"
     ]
    }
   ],
   "source": [
    "merge_data = scv.utils.merge(adata, all_velodata)"
   ]
  }
 ],
 "metadata": {
  "kernelspec": {
   "display_name": "hieunguyen",
   "language": "python",
   "name": "python3"
  },
  "language_info": {
   "codemirror_mode": {
    "name": "ipython",
    "version": 3
   },
   "file_extension": ".py",
   "mimetype": "text/x-python",
   "name": "python",
   "nbconvert_exporter": "python",
   "pygments_lexer": "ipython3",
   "version": "3.10.4"
  }
 },
 "nbformat": 4,
 "nbformat_minor": 2
}
